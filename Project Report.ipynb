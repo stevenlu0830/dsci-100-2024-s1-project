{
 "cells": [
  {
   "cell_type": "markdown",
   "id": "aeaf0e90-4dd7-45d1-839c-6848c093e629",
   "metadata": {},
   "source": [
    "Title: \n",
    "\n",
    "Levels of Heart Disease by Exploring Resting Blood Pressure (in mm Hg on admission to the hospital), Maximum Heart Rate Achieved and Age"
   ]
  },
  {
   "cell_type": "markdown",
   "id": "4374836e-683d-4e93-8524-accdf29ee7fd",
   "metadata": {},
   "source": [
    "Introduction:\n",
    "\n",
    "- provide some relevant background information on the topic so that someone unfamiliar with it will be prepared to understand the rest of your report\n",
    "- clearly state the question you tried to answer with your project\n",
    "- identify and describe the dataset that was used to answer the question"
   ]
  },
  {
   "cell_type": "markdown",
   "id": "ffd1b34e-9f52-4089-a45a-a51d114035c6",
   "metadata": {},
   "source": [
    "The World Health Organization has estimated that 12 million deaths occur every year worldwide due to the heart diseases. Cardiovascular disease (CVD) is a kind of heart disease that affect the heart and the blood vessels and the way in which blood is pumped and circulated through the body. CVD results in several illness, disability, and death. Medical diagnosis of heart disease is a very important job (Soni et al., 2011). Many scholars undertook projects, algorithms and models to predict the probability of heart disease based on different attributes. Detrano et al. (1989) undertook a project that determine if CAD probabilities in study samples drawn from various ethnic populations with different clinical characteristics can be predicted by a probability algorithm derived from the clinical characteristics. They compared this algorithm with the algorithm of Diamond et al. They concluded that the algorithm is useful when applied to patients who have chest pain syndromes and intermediate disease prevalence. Shah et al. (2020) used the existing dataset from the Cleveland database of UCI repository of heart disease patients to predict the probability of developing heart disease using different algorithms, such as Naïve Bayes, decision tree, K-nearest neighbor, and random forest algorithm. \n",
    "\n",
    "Now, we are given a modified version of the UCI Heart Disease dataset. We are given 14 out of 76 attributes, or variables to do a further data analysis for the heart disease. We are given lots of observations from 4 locations, which are Cleveland, Hungarian, Switzerland and VA Long Beach. Shah et al. (2020) used the dataset from the Cleveland database to perform data analysis of heart disease. I would like to use the dataset from the Hungarian database because it also contains sufficient observations. In the 14 variables, 13 out of them are “feature” roles, which means that they are the predictors to predict a class. The “num” variable is the “target” role, which is the class I have to predict. Some of the variables are “integer” type, which means numeric-type variables that can be used for calculations. Some of the variables are “categorial” type, which is equivalent to “factor” type we learnt in the data science course. \n",
    "\n",
    "The “num” variable is the class variable in the prediction process. It is the diagnosis of heart disease. In other words, it is the angiographic disease status. There are 2 values in the variable. Value 0 means less than 50% diameter of the vessel narrowing. Value 1 means more than 50% diameter of the vessel narrowing. By using a K-nearest neighbour classification model, I would like to answer the following predictive question: For a given age, resting blood pressure and maximum heart rate achieved, what is the predicted level of heart disease.\n"
   ]
  },
  {
   "cell_type": "markdown",
   "id": "1ee614b8-ccbc-47bb-a62d-4c7fe7c4d459",
   "metadata": {},
   "source": [
    "References\r\n",
    "\r\n",
    "Detrano, R., Jánosi, A., Steinbrunn, W., Pfisterer M., Schmid J., Sandhu S., Guppy K., Lee S., Froelicher V. (1989). International Application of a New Probability Algorithm for the Diagnosis of Coronary Artery Disease. The American Journal of Cardiology, 64(5), 304-310. https://doi.org/10.1016/0002-9149(89)90524-9\r\n",
    "\r\n",
    "Janosi, A., Steinbrunn, W., Pfisterer, M., Detrano, R. (1988). Heart Disease. UC Irving Machine Learning Repository. https://archive.ics.uci.edu/dataset/45/heart+disease\r\n",
    "\r\n",
    "Shah, D., Patel, S. & Bharti, S.K. (2020). Heart Disease Prediction using Machine Learning Techniques. SN Computer Science, 1(345), 1-6. https://doi.org/10.1007/s42979-020-00365-y\r\n",
    "\r\n",
    "Soni, J., Ansari, U., Sharma, D. & Soni, S. (2011). Predictive Data Mining For Medical Diagnosis: An Overview Of Heart Disease Prediction. International Journal of Computer Applications, 17(8), 43-48. https://doi.org/10.5120/2237-2860\r\n"
   ]
  },
  {
   "cell_type": "code",
   "execution_count": null,
   "id": "c1501e63-874f-40f3-9a54-74744ea47c6c",
   "metadata": {},
   "outputs": [],
   "source": []
  }
 ],
 "metadata": {
  "kernelspec": {
   "display_name": "R",
   "language": "R",
   "name": "ir"
  },
  "language_info": {
   "codemirror_mode": "r",
   "file_extension": ".r",
   "mimetype": "text/x-r-source",
   "name": "R",
   "pygments_lexer": "r",
   "version": "4.3.1"
  }
 },
 "nbformat": 4,
 "nbformat_minor": 5
}
